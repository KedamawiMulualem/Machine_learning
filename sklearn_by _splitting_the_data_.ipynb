from sklearn import datasets
from sklearn.cross_validation import train_test_split
from sklearn import tree
from sklearn.metrics import accuracy_score
iris=datasets.load_iris()
x=iris.data
y=iris.target
#0.5% training 0.5% testing 
x_train,x_test,y_train,y_test=train_test_split(x,y,test_size=.5)


#training
my_clasifier = tree.DecisionTreeClassifier()
my_clasifier.fit(x_train,y_train)

#prediction for the testing data
prediction=my_clasifier.predict(x_test)


#printing accuracy
print(accuracy_score(y_test,prediction))
 
